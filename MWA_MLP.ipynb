{
 "cells": [
  {
   "cell_type": "code",
   "execution_count": 2,
   "id": "3f4df749-884a-403a-9383-ebf6ebae674e",
   "metadata": {},
   "outputs": [],
   "source": [
    "import numpy as np\n",
    "import matplotlib.pyplot as plt\n",
    "import scipy.io as sio\n",
    "import math\n",
    "import random\n",
    "import os\n",
    "from sklearn.model_selection import GridSearchCV, train_test_split\n",
    "from sklearn.neural_network import MLPClassifier\n",
    "from sklearn.model_selection import train_test_split\n",
    "from sklearn.metrics import log_loss\n",
    "\n",
    "work_dir = 'Iyer_etal_2020_SFH_data/'\n",
    "extn = '_sfhs_psds.mat'\n",
    "\n",
    "simulation_names = ['Eagle', 'Illustris', 'IllustrisTNG', 'Mufasa', 'Simba', 'SC-Sam', 'UniverseMachine', 'Fire-2', 'Marvel_JL']\n",
    "combined = []\n",
    "for sim_name in simulation_names:\n",
    "    sim_data = sio.loadmat(work_dir + sim_name + extn)\n",
    "    sfhs = sim_data['smallsfhs'].T[:, :136] # Only getting the first 136 timesteps rn, might change later\n",
    "    presentsfr = sfhs[:, -1]  # Accessing the last time step for redshift 0 sfr\n",
    "    logmass = np.array(sim_data['logmass'].ravel())\n",
    "    combined = combined + [[arr, m, s] for arr, m, s in zip(sfhs, logmass, presentsfr)] # List containing all galaxies from the simulation,\n",
    "# each is represented as a list of 3 elements: the np array containing its full sfhs, a log stellar mass, and its present SFR"
   ]
  },
  {
   "cell_type": "code",
   "execution_count": 3,
   "id": "3481976c-26f3-4d31-a5d1-cd79771a4921",
   "metadata": {},
   "outputs": [
    {
     "name": "stdout",
     "output_type": "stream",
     "text": [
      "0.009149966172056148\n",
      "152241\n"
     ]
    }
   ],
   "source": [
    "labels = [0] * len(combined) # Initializing an empty array to store labels\n",
    "for i in range(len(combined)):\n",
    "    if combined[i][1] > math.log10(6.08e10 - 3 * 1.14e10) and combined[i][1] < math.log10(6.08e10 + 3 * 1.14e10) and  combined[i][2] > 1.65 - 3*0.19 and combined[i][2] < 1.65 + 3*0.19:\n",
    "        labels[i] = 1\n",
    "        \n",
    "    else:\n",
    "        labels[i] = 0\n",
    "print(len([label for label in labels if label == 1])/len(combined))\n",
    "print(len(combined))"
   ]
  },
  {
   "cell_type": "code",
   "execution_count": 40,
   "id": "42a6f774-4a3d-4c45-b10d-28a10a20045c",
   "metadata": {},
   "outputs": [
    {
     "data": {
      "text/plain": [
       "(152241, 136)"
      ]
     },
     "execution_count": 40,
     "metadata": {},
     "output_type": "execute_result"
    }
   ],
   "source": [
    "sfhs = np.array([galaxy[0] for galaxy in combined])\n",
    "sfhs.shape"
   ]
  },
  {
   "cell_type": "code",
   "execution_count": 1,
   "id": "8b4a315a-0dfb-436b-948c-e3cc1fdfae2e",
   "metadata": {},
   "outputs": [
    {
     "ename": "NameError",
     "evalue": "name 'sfhs' is not defined",
     "output_type": "error",
     "traceback": [
      "\u001b[0;31m---------------------------------------------------------------------------\u001b[0m",
      "\u001b[0;31mNameError\u001b[0m                                 Traceback (most recent call last)",
      "Cell \u001b[0;32mIn[1], line 1\u001b[0m\n\u001b[0;32m----> 1\u001b[0m \u001b[43msfhs\u001b[49m\n",
      "\u001b[0;31mNameError\u001b[0m: name 'sfhs' is not defined"
     ]
    }
   ],
   "source": []
  },
  {
   "cell_type": "code",
   "execution_count": 42,
   "id": "1cb85197-30a0-42eb-9748-edb17d318b80",
   "metadata": {},
   "outputs": [
    {
     "name": "stdout",
     "output_type": "stream",
     "text": [
      "Fitting 3 folds for each of 18 candidates, totalling 54 fits\n"
     ]
    },
    {
     "name": "stderr",
     "output_type": "stream",
     "text": [
      "/Library/Frameworks/Python.framework/Versions/3.12/lib/python3.12/site-packages/sklearn/neural_network/_multilayer_perceptron.py:691: ConvergenceWarning: Stochastic Optimizer: Maximum iterations (50) reached and the optimization hasn't converged yet.\n",
      "  warnings.warn(\n",
      "/Library/Frameworks/Python.framework/Versions/3.12/lib/python3.12/site-packages/sklearn/neural_network/_multilayer_perceptron.py:691: ConvergenceWarning: Stochastic Optimizer: Maximum iterations (50) reached and the optimization hasn't converged yet.\n",
      "  warnings.warn(\n",
      "/Library/Frameworks/Python.framework/Versions/3.12/lib/python3.12/site-packages/sklearn/neural_network/_multilayer_perceptron.py:691: ConvergenceWarning: Stochastic Optimizer: Maximum iterations (50) reached and the optimization hasn't converged yet.\n",
      "  warnings.warn(\n",
      "/Library/Frameworks/Python.framework/Versions/3.12/lib/python3.12/site-packages/sklearn/neural_network/_multilayer_perceptron.py:691: ConvergenceWarning: Stochastic Optimizer: Maximum iterations (50) reached and the optimization hasn't converged yet.\n",
      "  warnings.warn(\n",
      "/Library/Frameworks/Python.framework/Versions/3.12/lib/python3.12/site-packages/sklearn/neural_network/_multilayer_perceptron.py:691: ConvergenceWarning: Stochastic Optimizer: Maximum iterations (50) reached and the optimization hasn't converged yet.\n",
      "  warnings.warn(\n",
      "/Library/Frameworks/Python.framework/Versions/3.12/lib/python3.12/site-packages/sklearn/neural_network/_multilayer_perceptron.py:691: ConvergenceWarning: Stochastic Optimizer: Maximum iterations (50) reached and the optimization hasn't converged yet.\n",
      "  warnings.warn(\n",
      "/Library/Frameworks/Python.framework/Versions/3.12/lib/python3.12/site-packages/sklearn/neural_network/_multilayer_perceptron.py:691: ConvergenceWarning: Stochastic Optimizer: Maximum iterations (50) reached and the optimization hasn't converged yet.\n",
      "  warnings.warn(\n",
      "/Library/Frameworks/Python.framework/Versions/3.12/lib/python3.12/site-packages/sklearn/neural_network/_multilayer_perceptron.py:691: ConvergenceWarning: Stochastic Optimizer: Maximum iterations (50) reached and the optimization hasn't converged yet.\n",
      "  warnings.warn(\n",
      "/Library/Frameworks/Python.framework/Versions/3.12/lib/python3.12/site-packages/sklearn/neural_network/_multilayer_perceptron.py:691: ConvergenceWarning: Stochastic Optimizer: Maximum iterations (50) reached and the optimization hasn't converged yet.\n",
      "  warnings.warn(\n",
      "/Library/Frameworks/Python.framework/Versions/3.12/lib/python3.12/site-packages/sklearn/neural_network/_multilayer_perceptron.py:691: ConvergenceWarning: Stochastic Optimizer: Maximum iterations (50) reached and the optimization hasn't converged yet.\n",
      "  warnings.warn(\n",
      "/Library/Frameworks/Python.framework/Versions/3.12/lib/python3.12/site-packages/sklearn/neural_network/_multilayer_perceptron.py:691: ConvergenceWarning: Stochastic Optimizer: Maximum iterations (50) reached and the optimization hasn't converged yet.\n",
      "  warnings.warn(\n",
      "/Library/Frameworks/Python.framework/Versions/3.12/lib/python3.12/site-packages/sklearn/neural_network/_multilayer_perceptron.py:691: ConvergenceWarning: Stochastic Optimizer: Maximum iterations (50) reached and the optimization hasn't converged yet.\n",
      "  warnings.warn(\n",
      "/Library/Frameworks/Python.framework/Versions/3.12/lib/python3.12/site-packages/sklearn/neural_network/_multilayer_perceptron.py:691: ConvergenceWarning: Stochastic Optimizer: Maximum iterations (50) reached and the optimization hasn't converged yet.\n",
      "  warnings.warn(\n",
      "/Library/Frameworks/Python.framework/Versions/3.12/lib/python3.12/site-packages/sklearn/neural_network/_multilayer_perceptron.py:691: ConvergenceWarning: Stochastic Optimizer: Maximum iterations (50) reached and the optimization hasn't converged yet.\n",
      "  warnings.warn(\n",
      "/Library/Frameworks/Python.framework/Versions/3.12/lib/python3.12/site-packages/sklearn/neural_network/_multilayer_perceptron.py:691: ConvergenceWarning: Stochastic Optimizer: Maximum iterations (50) reached and the optimization hasn't converged yet.\n",
      "  warnings.warn(\n",
      "/Library/Frameworks/Python.framework/Versions/3.12/lib/python3.12/site-packages/sklearn/neural_network/_multilayer_perceptron.py:691: ConvergenceWarning: Stochastic Optimizer: Maximum iterations (50) reached and the optimization hasn't converged yet.\n",
      "  warnings.warn(\n",
      "/Library/Frameworks/Python.framework/Versions/3.12/lib/python3.12/site-packages/sklearn/neural_network/_multilayer_perceptron.py:691: ConvergenceWarning: Stochastic Optimizer: Maximum iterations (50) reached and the optimization hasn't converged yet.\n",
      "  warnings.warn(\n",
      "/Library/Frameworks/Python.framework/Versions/3.12/lib/python3.12/site-packages/sklearn/neural_network/_multilayer_perceptron.py:691: ConvergenceWarning: Stochastic Optimizer: Maximum iterations (50) reached and the optimization hasn't converged yet.\n",
      "  warnings.warn(\n",
      "/Library/Frameworks/Python.framework/Versions/3.12/lib/python3.12/site-packages/sklearn/neural_network/_multilayer_perceptron.py:691: ConvergenceWarning: Stochastic Optimizer: Maximum iterations (50) reached and the optimization hasn't converged yet.\n",
      "  warnings.warn(\n",
      "/Library/Frameworks/Python.framework/Versions/3.12/lib/python3.12/site-packages/sklearn/neural_network/_multilayer_perceptron.py:691: ConvergenceWarning: Stochastic Optimizer: Maximum iterations (50) reached and the optimization hasn't converged yet.\n",
      "  warnings.warn(\n",
      "/Library/Frameworks/Python.framework/Versions/3.12/lib/python3.12/site-packages/sklearn/neural_network/_multilayer_perceptron.py:691: ConvergenceWarning: Stochastic Optimizer: Maximum iterations (50) reached and the optimization hasn't converged yet.\n",
      "  warnings.warn(\n"
     ]
    },
    {
     "name": "stdout",
     "output_type": "stream",
     "text": [
      "Best cross-validated score:  0.9908122044128443\n",
      "Best parameters found:  {'activation': 'relu', 'hidden_layer_sizes': (2, 10), 'learning_rate_init': 0.0001}\n",
      "Test score:  0.9910013465138429\n"
     ]
    },
    {
     "name": "stderr",
     "output_type": "stream",
     "text": [
      "/Library/Frameworks/Python.framework/Versions/3.12/lib/python3.12/site-packages/sklearn/neural_network/_multilayer_perceptron.py:691: ConvergenceWarning: Stochastic Optimizer: Maximum iterations (50) reached and the optimization hasn't converged yet.\n",
      "  warnings.warn(\n"
     ]
    }
   ],
   "source": [
    "X_train, X_test, y_train, y_test = train_test_split(sfhs, labels, test_size=0.2, random_state=42)\n",
    "\n",
    "param_grid = {\n",
    "    'hidden_layer_sizes': [(2, 10), (6, 10), (10, 10)],\n",
    "    'activation': ['relu', 'tanh'],\n",
    "    'learning_rate_init': [1e-4, 0.01, 0.1],\n",
    "}\n",
    "\n",
    "# Initialize the MLPClassifier\n",
    "mlp = MLPClassifier(max_iter=50, random_state=42)\n",
    "\n",
    "# Initialize GridSearchCV\n",
    "grid_search = GridSearchCV(estimator=mlp, param_grid=param_grid, cv=3, n_jobs=-1, verbose=2)\n",
    "\n",
    "# Fit the grid search\n",
    "grid_search.fit(X_train, y_train)\n",
    "\n",
    "# Best cross-validated score\n",
    "best_cv_score = grid_search.best_score_\n",
    "print(\"Best cross-validated score: \", best_cv_score)\n",
    "\n",
    "# Best parameters found\n",
    "best_params = grid_search.best_params_\n",
    "print(\"Best parameters found: \", best_params)\n",
    "\n",
    "# Score on the test set\n",
    "test_score = grid_search.score(X_test, y_test)\n",
    "print(\"Test score: \", test_score)"
   ]
  },
  {
   "cell_type": "code",
   "execution_count": 43,
   "id": "ba93b1a3-82aa-414f-9d6d-0eb74b976da8",
   "metadata": {},
   "outputs": [
    {
     "name": "stdout",
     "output_type": "stream",
     "text": [
      "Confusion Matrix:\n",
      "[[30175     0]\n",
      " [  274     0]]\n",
      "Classification Report:\n",
      "              precision    recall  f1-score   support\n",
      "\n",
      "           0       0.99      1.00      1.00     30175\n",
      "           1       0.00      0.00      0.00       274\n",
      "\n",
      "    accuracy                           0.99     30449\n",
      "   macro avg       0.50      0.50      0.50     30449\n",
      "weighted avg       0.98      0.99      0.99     30449\n",
      "\n",
      "ROC-AUC Score:\n",
      "0.9507757061907728\n"
     ]
    },
    {
     "name": "stderr",
     "output_type": "stream",
     "text": [
      "/Library/Frameworks/Python.framework/Versions/3.12/lib/python3.12/site-packages/sklearn/metrics/_classification.py:1509: UndefinedMetricWarning: Precision is ill-defined and being set to 0.0 in labels with no predicted samples. Use `zero_division` parameter to control this behavior.\n",
      "  _warn_prf(average, modifier, f\"{metric.capitalize()} is\", len(result))\n",
      "/Library/Frameworks/Python.framework/Versions/3.12/lib/python3.12/site-packages/sklearn/metrics/_classification.py:1509: UndefinedMetricWarning: Precision is ill-defined and being set to 0.0 in labels with no predicted samples. Use `zero_division` parameter to control this behavior.\n",
      "  _warn_prf(average, modifier, f\"{metric.capitalize()} is\", len(result))\n",
      "/Library/Frameworks/Python.framework/Versions/3.12/lib/python3.12/site-packages/sklearn/metrics/_classification.py:1509: UndefinedMetricWarning: Precision is ill-defined and being set to 0.0 in labels with no predicted samples. Use `zero_division` parameter to control this behavior.\n",
      "  _warn_prf(average, modifier, f\"{metric.capitalize()} is\", len(result))\n"
     ]
    },
    {
     "data": {
      "text/plain": [
       "<sklearn.metrics._plot.roc_curve.RocCurveDisplay at 0x154e07920>"
      ]
     },
     "execution_count": 43,
     "metadata": {},
     "output_type": "execute_result"
    },
    {
     "data": {
      "image/png": "[encoded data removed]",
      "text/plain": [
       "<Figure size 640x480 with 1 Axes>"
      ]
     },
     "metadata": {},
     "output_type": "display_data"
    },
    {
     "name": "stdout",
     "output_type": "stream",
     "text": [
      "[CV] END activation=relu, hidden_layer_sizes=(2, 10), learning_rate_init=0.0001; total time=   6.1s\n",
      "[CV] END activation=relu, hidden_layer_sizes=(6, 10), learning_rate_init=0.01; total time=   6.7s\n",
      "[CV] END activation=relu, hidden_layer_sizes=(10, 10), learning_rate_init=0.1; total time=   3.2s\n",
      "[CV] END activation=tanh, hidden_layer_sizes=(2, 10), learning_rate_init=0.0001; total time=   5.5s\n",
      "[CV] END activation=tanh, hidden_layer_sizes=(6, 10), learning_rate_init=0.01; total time=   6.6s\n",
      "[CV] END activation=tanh, hidden_layer_sizes=(10, 10), learning_rate_init=0.1; total time=   2.4s\n",
      "[CV] END activation=relu, hidden_layer_sizes=(2, 10), learning_rate_init=0.01; total time=   5.3s\n",
      "[CV] END activation=relu, hidden_layer_sizes=(6, 10), learning_rate_init=0.0001; total time=   6.8s\n",
      "[CV] END activation=relu, hidden_layer_sizes=(10, 10), learning_rate_init=0.01; total time=   4.8s\n",
      "[CV] END activation=tanh, hidden_layer_sizes=(2, 10), learning_rate_init=0.01; total time=   2.3s\n",
      "[CV] END activation=tanh, hidden_layer_sizes=(2, 10), learning_rate_init=0.1; total time=   2.9s\n",
      "[CV] END activation=tanh, hidden_layer_sizes=(6, 10), learning_rate_init=0.1; total time=   2.3s\n",
      "[CV] END activation=tanh, hidden_layer_sizes=(10, 10), learning_rate_init=0.0001; total time=   7.0s\n",
      "[CV] END activation=relu, hidden_layer_sizes=(2, 10), learning_rate_init=0.01; total time=   5.6s\n",
      "[CV] END activation=relu, hidden_layer_sizes=(6, 10), learning_rate_init=0.0001; total time=   6.7s\n",
      "[CV] END activation=relu, hidden_layer_sizes=(10, 10), learning_rate_init=0.01; total time=   6.9s\n",
      "[CV] END activation=tanh, hidden_layer_sizes=(2, 10), learning_rate_init=0.1; total time=   2.4s\n",
      "[CV] END activation=tanh, hidden_layer_sizes=(6, 10), learning_rate_init=0.01; total time=   2.8s\n",
      "[CV] END activation=tanh, hidden_layer_sizes=(10, 10), learning_rate_init=0.0001; total time=   7.1s\n",
      "[CV] END activation=relu, hidden_layer_sizes=(2, 10), learning_rate_init=0.0001; total time=   6.1s\n",
      "[CV] END activation=relu, hidden_layer_sizes=(6, 10), learning_rate_init=0.01; total time=   6.2s\n",
      "[CV] END activation=relu, hidden_layer_sizes=(10, 10), learning_rate_init=0.01; total time=   6.8s\n",
      "[CV] END activation=tanh, hidden_layer_sizes=(2, 10), learning_rate_init=0.1; total time=   2.7s\n",
      "[CV] END activation=tanh, hidden_layer_sizes=(6, 10), learning_rate_init=0.01; total time=   2.8s\n",
      "[CV] END activation=tanh, hidden_layer_sizes=(10, 10), learning_rate_init=0.0001; total time=   7.0s\n",
      "[CV] END activation=relu, hidden_layer_sizes=(2, 10), learning_rate_init=0.1; total time=   3.0s\n",
      "[CV] END activation=relu, hidden_layer_sizes=(2, 10), learning_rate_init=0.1; total time=   3.2s\n",
      "[CV] END activation=relu, hidden_layer_sizes=(6, 10), learning_rate_init=0.1; total time=   2.1s\n",
      "[CV] END activation=relu, hidden_layer_sizes=(10, 10), learning_rate_init=0.0001; total time=   6.8s\n",
      "[CV] END activation=relu, hidden_layer_sizes=(10, 10), learning_rate_init=0.1; total time=   3.1s\n",
      "[CV] END activation=tanh, hidden_layer_sizes=(2, 10), learning_rate_init=0.01; total time=   2.7s\n",
      "[CV] END activation=tanh, hidden_layer_sizes=(6, 10), learning_rate_init=0.0001; total time=   6.5s\n",
      "[CV] END activation=tanh, hidden_layer_sizes=(10, 10), learning_rate_init=0.01; total time=   4.9s\n",
      "[CV] END activation=relu, hidden_layer_sizes=(2, 10), learning_rate_init=0.0001; total time=   6.2s\n",
      "[CV] END activation=relu, hidden_layer_sizes=(6, 10), learning_rate_init=0.01; total time=   4.7s\n",
      "[CV] END activation=relu, hidden_layer_sizes=(10, 10), learning_rate_init=0.0001; total time=   6.6s\n",
      "[CV] END activation=tanh, hidden_layer_sizes=(2, 10), learning_rate_init=0.01; total time=   3.6s\n",
      "[CV] END activation=tanh, hidden_layer_sizes=(6, 10), learning_rate_init=0.0001; total time=   6.5s\n",
      "[CV] END activation=tanh, hidden_layer_sizes=(10, 10), learning_rate_init=0.1; total time=   2.5s\n",
      "[CV] END activation=tanh, hidden_layer_sizes=(10, 10), learning_rate_init=0.1; total time=   2.4s\n",
      "[CV] END activation=relu, hidden_layer_sizes=(2, 10), learning_rate_init=0.01; total time=   6.3s\n",
      "[CV] END activation=relu, hidden_layer_sizes=(6, 10), learning_rate_init=0.1; total time=   1.9s\n",
      "[CV] END activation=relu, hidden_layer_sizes=(6, 10), learning_rate_init=0.1; total time=   4.9s\n",
      "[CV] END activation=relu, hidden_layer_sizes=(10, 10), learning_rate_init=0.1; total time=   2.5s\n",
      "[CV] END activation=tanh, hidden_layer_sizes=(2, 10), learning_rate_init=0.0001; total time=   5.2s\n",
      "[CV] END activation=tanh, hidden_layer_sizes=(6, 10), learning_rate_init=0.0001; total time=   6.6s\n",
      "[CV] END activation=tanh, hidden_layer_sizes=(10, 10), learning_rate_init=0.01; total time=   5.4s\n",
      "[CV] END activation=relu, hidden_layer_sizes=(2, 10), learning_rate_init=0.1; total time=   3.8s\n",
      "[CV] END activation=relu, hidden_layer_sizes=(6, 10), learning_rate_init=0.0001; total time=   6.6s\n",
      "[CV] END activation=relu, hidden_layer_sizes=(10, 10), learning_rate_init=0.0001; total time=   6.4s\n",
      "[CV] END activation=tanh, hidden_layer_sizes=(2, 10), learning_rate_init=0.0001; total time=   5.3s\n",
      "[CV] END activation=tanh, hidden_layer_sizes=(6, 10), learning_rate_init=0.1; total time=   2.1s\n",
      "[CV] END activation=tanh, hidden_layer_sizes=(6, 10), learning_rate_init=0.1; total time=   2.4s\n",
      "[CV] END activation=tanh, hidden_layer_sizes=(10, 10), learning_rate_init=0.01; total time=   6.5s\n"
     ]
    }
   ],
   "source": [
    "from sklearn.metrics import confusion_matrix, classification_report, roc_auc_score, RocCurveDisplay\n",
    "\n",
    "# Assuming y_test are the true labels and y_pred are the predicted labels\n",
    "y_pred = grid_search.predict(X_test)\n",
    "\n",
    "# Confusion Matrix\n",
    "cm = confusion_matrix(y_test, y_pred)\n",
    "print(\"Confusion Matrix:\")\n",
    "print(cm)\n",
    "\n",
    "# Classification Report\n",
    "report = classification_report(y_test, y_pred)\n",
    "print(\"Classification Report:\")\n",
    "print(report)\n",
    "\n",
    "# ROC-AUC\n",
    "y_pred_prob = grid_search.predict_proba(X_test)[:, 1]\n",
    "roc_auc = roc_auc_score(y_test, y_pred_prob)\n",
    "print(\"ROC-AUC Score:\")\n",
    "print(roc_auc)\n",
    "\n",
    "# ROC Curve\n",
    "RocCurveDisplay.from_estimator(grid_search, X_test, y_test)"
   ]
  },
  {
   "cell_type": "code",
   "execution_count": 35,
   "id": "d6399c7a-ccfd-4f21-a3cf-63bf9cbcf1b7",
   "metadata": {},
   "outputs": [],
   "source": [
    "from skopt import BayesSearchCV\n",
    "from skopt.space import Real, Categorical, Integer\n",
    "from sklearn.metrics import make_scorer, f1_score, roc_auc_score"
   ]
  },
  {
   "cell_type": "code",
   "execution_count": 36,
   "id": "29b96969-0b57-4698-9a0d-1a3eafd484e9",
   "metadata": {},
   "outputs": [
    {
     "name": "stdout",
     "output_type": "stream",
     "text": [
      "Fitting 3 folds for each of 1 candidates, totalling 3 fits\n"
     ]
    },
    {
     "name": "stderr",
     "output_type": "stream",
     "text": [
      "/Library/Frameworks/Python.framework/Versions/3.12/lib/python3.12/site-packages/sklearn/metrics/_scorer.py:548: FutureWarning: The `needs_threshold` and `needs_proba` parameter are deprecated in version 1.4 and will be removed in 1.6. You can either let `response_method` be `None` or set it to `predict` to preserve the same behaviour.\n",
      "  warnings.warn(\n",
      "/Library/Frameworks/Python.framework/Versions/3.12/lib/python3.12/site-packages/sklearn/neural_network/_multilayer_perceptron.py:691: ConvergenceWarning: Stochastic Optimizer: Maximum iterations (100) reached and the optimization hasn't converged yet.\n",
      "  warnings.warn(\n",
      "/Library/Frameworks/Python.framework/Versions/3.12/lib/python3.12/site-packages/sklearn/neural_network/_multilayer_perceptron.py:691: ConvergenceWarning: Stochastic Optimizer: Maximum iterations (100) reached and the optimization hasn't converged yet.\n",
      "  warnings.warn(\n"
     ]
    },
    {
     "ename": "ValueError",
     "evalue": "Not all points are within the bounds of the space.",
     "output_type": "error",
     "traceback": [
      "\u001b[0;31m---------------------------------------------------------------------------\u001b[0m",
      "\u001b[0;31mValueError\u001b[0m                                Traceback (most recent call last)",
      "Cell \u001b[0;32mIn[36], line 20\u001b[0m\n\u001b[1;32m     17\u001b[0m opt \u001b[38;5;241m=\u001b[39m BayesSearchCV(estimator\u001b[38;5;241m=\u001b[39mclf, search_spaces\u001b[38;5;241m=\u001b[39msearch_spaces, n_iter\u001b[38;5;241m=\u001b[39m\u001b[38;5;241m5\u001b[39m, cv\u001b[38;5;241m=\u001b[39m\u001b[38;5;241m3\u001b[39m, n_jobs\u001b[38;5;241m=\u001b[39m\u001b[38;5;241m-\u001b[39m\u001b[38;5;241m1\u001b[39m, verbose\u001b[38;5;241m=\u001b[39m\u001b[38;5;241m3\u001b[39m, scoring\u001b[38;5;241m=\u001b[39mscoring, refit\u001b[38;5;241m=\u001b[39m\u001b[38;5;124m'\u001b[39m\u001b[38;5;124mROC_AUC\u001b[39m\u001b[38;5;124m'\u001b[39m)\n\u001b[1;32m     19\u001b[0m \u001b[38;5;66;03m# Fit the optimizer\u001b[39;00m\n\u001b[0;32m---> 20\u001b[0m \u001b[43mopt\u001b[49m\u001b[38;5;241;43m.\u001b[39;49m\u001b[43mfit\u001b[49m\u001b[43m(\u001b[49m\u001b[43mX_train\u001b[49m\u001b[43m,\u001b[49m\u001b[43m \u001b[49m\u001b[43my_train\u001b[49m\u001b[43m)\u001b[49m\n\u001b[1;32m     22\u001b[0m \u001b[38;5;66;03m# Best hyperparameters found\u001b[39;00m\n\u001b[1;32m     23\u001b[0m \u001b[38;5;28mprint\u001b[39m(\u001b[38;5;124m\"\u001b[39m\u001b[38;5;124mBest hyperparameters found: \u001b[39m\u001b[38;5;124m\"\u001b[39m, opt\u001b[38;5;241m.\u001b[39mbest_params_)\n",
      "File \u001b[0;32m/Library/Frameworks/Python.framework/Versions/3.12/lib/python3.12/site-packages/skopt/searchcv.py:542\u001b[0m, in \u001b[0;36mBayesSearchCV.fit\u001b[0;34m(self, X, y, groups, callback, **fit_params)\u001b[0m\n\u001b[1;32m    535\u001b[0m \u001b[38;5;28;01mif\u001b[39;00m \u001b[38;5;28mcallable\u001b[39m(\u001b[38;5;28mself\u001b[39m\u001b[38;5;241m.\u001b[39mrefit):\n\u001b[1;32m    536\u001b[0m     \u001b[38;5;28;01mraise\u001b[39;00m \u001b[38;5;167;01mValueError\u001b[39;00m(\n\u001b[1;32m    537\u001b[0m         \u001b[38;5;124m\"\u001b[39m\u001b[38;5;124mBayesSearchCV doesn\u001b[39m\u001b[38;5;124m'\u001b[39m\u001b[38;5;124mt support a callable refit, \u001b[39m\u001b[38;5;124m\"\u001b[39m\n\u001b[1;32m    538\u001b[0m         \u001b[38;5;124m\"\u001b[39m\u001b[38;5;124mas it doesn\u001b[39m\u001b[38;5;124m'\u001b[39m\u001b[38;5;124mt define an implicit score to \u001b[39m\u001b[38;5;124m\"\u001b[39m\n\u001b[1;32m    539\u001b[0m         \u001b[38;5;124m\"\u001b[39m\u001b[38;5;124moptimize\u001b[39m\u001b[38;5;124m\"\u001b[39m\n\u001b[1;32m    540\u001b[0m     )\n\u001b[0;32m--> 542\u001b[0m \u001b[38;5;28;43msuper\u001b[39;49m\u001b[43m(\u001b[49m\u001b[43m)\u001b[49m\u001b[38;5;241;43m.\u001b[39;49m\u001b[43mfit\u001b[49m\u001b[43m(\u001b[49m\u001b[43mX\u001b[49m\u001b[38;5;241;43m=\u001b[39;49m\u001b[43mX\u001b[49m\u001b[43m,\u001b[49m\u001b[43m \u001b[49m\u001b[43my\u001b[49m\u001b[38;5;241;43m=\u001b[39;49m\u001b[43my\u001b[49m\u001b[43m,\u001b[49m\u001b[43m \u001b[49m\u001b[43mgroups\u001b[49m\u001b[38;5;241;43m=\u001b[39;49m\u001b[43mgroups\u001b[49m\u001b[43m,\u001b[49m\u001b[43m \u001b[49m\u001b[38;5;241;43m*\u001b[39;49m\u001b[38;5;241;43m*\u001b[39;49m\u001b[43mfit_params\u001b[49m\u001b[43m)\u001b[49m\n\u001b[1;32m    544\u001b[0m \u001b[38;5;66;03m# BaseSearchCV never ranked train scores,\u001b[39;00m\n\u001b[1;32m    545\u001b[0m \u001b[38;5;66;03m# but apparently we used to ship this (back-compat)\u001b[39;00m\n\u001b[1;32m    546\u001b[0m \u001b[38;5;28;01mif\u001b[39;00m \u001b[38;5;28mself\u001b[39m\u001b[38;5;241m.\u001b[39mreturn_train_score:\n",
      "File \u001b[0;32m/Library/Frameworks/Python.framework/Versions/3.12/lib/python3.12/site-packages/sklearn/base.py:1474\u001b[0m, in \u001b[0;36m_fit_context.<locals>.decorator.<locals>.wrapper\u001b[0;34m(estimator, *args, **kwargs)\u001b[0m\n\u001b[1;32m   1467\u001b[0m     estimator\u001b[38;5;241m.\u001b[39m_validate_params()\n\u001b[1;32m   1469\u001b[0m \u001b[38;5;28;01mwith\u001b[39;00m config_context(\n\u001b[1;32m   1470\u001b[0m     skip_parameter_validation\u001b[38;5;241m=\u001b[39m(\n\u001b[1;32m   1471\u001b[0m         prefer_skip_nested_validation \u001b[38;5;129;01mor\u001b[39;00m global_skip_validation\n\u001b[1;32m   1472\u001b[0m     )\n\u001b[1;32m   1473\u001b[0m ):\n\u001b[0;32m-> 1474\u001b[0m     \u001b[38;5;28;01mreturn\u001b[39;00m \u001b[43mfit_method\u001b[49m\u001b[43m(\u001b[49m\u001b[43mestimator\u001b[49m\u001b[43m,\u001b[49m\u001b[43m \u001b[49m\u001b[38;5;241;43m*\u001b[39;49m\u001b[43margs\u001b[49m\u001b[43m,\u001b[49m\u001b[43m \u001b[49m\u001b[38;5;241;43m*\u001b[39;49m\u001b[38;5;241;43m*\u001b[39;49m\u001b[43mkwargs\u001b[49m\u001b[43m)\u001b[49m\n",
      "File \u001b[0;32m/Library/Frameworks/Python.framework/Versions/3.12/lib/python3.12/site-packages/sklearn/model_selection/_search.py:970\u001b[0m, in \u001b[0;36mBaseSearchCV.fit\u001b[0;34m(self, X, y, **params)\u001b[0m\n\u001b[1;32m    964\u001b[0m     results \u001b[38;5;241m=\u001b[39m \u001b[38;5;28mself\u001b[39m\u001b[38;5;241m.\u001b[39m_format_results(\n\u001b[1;32m    965\u001b[0m         all_candidate_params, n_splits, all_out, all_more_results\n\u001b[1;32m    966\u001b[0m     )\n\u001b[1;32m    968\u001b[0m     \u001b[38;5;28;01mreturn\u001b[39;00m results\n\u001b[0;32m--> 970\u001b[0m \u001b[38;5;28;43mself\u001b[39;49m\u001b[38;5;241;43m.\u001b[39;49m\u001b[43m_run_search\u001b[49m\u001b[43m(\u001b[49m\u001b[43mevaluate_candidates\u001b[49m\u001b[43m)\u001b[49m\n\u001b[1;32m    972\u001b[0m \u001b[38;5;66;03m# multimetric is determined here because in the case of a callable\u001b[39;00m\n\u001b[1;32m    973\u001b[0m \u001b[38;5;66;03m# self.scoring the return type is only known after calling\u001b[39;00m\n\u001b[1;32m    974\u001b[0m first_test_score \u001b[38;5;241m=\u001b[39m all_out[\u001b[38;5;241m0\u001b[39m][\u001b[38;5;124m\"\u001b[39m\u001b[38;5;124mtest_scores\u001b[39m\u001b[38;5;124m\"\u001b[39m]\n",
      "File \u001b[0;32m/Library/Frameworks/Python.framework/Versions/3.12/lib/python3.12/site-packages/skopt/searchcv.py:599\u001b[0m, in \u001b[0;36mBayesSearchCV._run_search\u001b[0;34m(self, evaluate_candidates)\u001b[0m\n\u001b[1;32m    595\u001b[0m \u001b[38;5;28;01mwhile\u001b[39;00m n_iter \u001b[38;5;241m>\u001b[39m \u001b[38;5;241m0\u001b[39m:\n\u001b[1;32m    596\u001b[0m     \u001b[38;5;66;03m# when n_iter < n_points points left for evaluation\u001b[39;00m\n\u001b[1;32m    597\u001b[0m     n_points_adjusted \u001b[38;5;241m=\u001b[39m \u001b[38;5;28mmin\u001b[39m(n_iter, n_points)\n\u001b[0;32m--> 599\u001b[0m     optim_result, score_name \u001b[38;5;241m=\u001b[39m \u001b[38;5;28;43mself\u001b[39;49m\u001b[38;5;241;43m.\u001b[39;49m\u001b[43m_step\u001b[49m\u001b[43m(\u001b[49m\n\u001b[1;32m    600\u001b[0m \u001b[43m        \u001b[49m\u001b[43msearch_space\u001b[49m\u001b[43m,\u001b[49m\n\u001b[1;32m    601\u001b[0m \u001b[43m        \u001b[49m\u001b[43moptimizer\u001b[49m\u001b[43m,\u001b[49m\n\u001b[1;32m    602\u001b[0m \u001b[43m        \u001b[49m\u001b[43mscore_name\u001b[49m\u001b[43m,\u001b[49m\n\u001b[1;32m    603\u001b[0m \u001b[43m        \u001b[49m\u001b[43mevaluate_candidates\u001b[49m\u001b[43m,\u001b[49m\n\u001b[1;32m    604\u001b[0m \u001b[43m        \u001b[49m\u001b[43mn_points\u001b[49m\u001b[38;5;241;43m=\u001b[39;49m\u001b[43mn_points_adjusted\u001b[49m\u001b[43m,\u001b[49m\n\u001b[1;32m    605\u001b[0m \u001b[43m    \u001b[49m\u001b[43m)\u001b[49m\n\u001b[1;32m    606\u001b[0m     n_iter \u001b[38;5;241m-\u001b[39m\u001b[38;5;241m=\u001b[39m n_points\n\u001b[1;32m    608\u001b[0m     \u001b[38;5;28;01mif\u001b[39;00m eval_callbacks(callbacks, optim_result):\n",
      "File \u001b[0;32m/Library/Frameworks/Python.framework/Versions/3.12/lib/python3.12/site-packages/skopt/searchcv.py:482\u001b[0m, in \u001b[0;36mBayesSearchCV._step\u001b[0;34m(self, search_space, optimizer, score_name, evaluate_candidates, n_points)\u001b[0m\n\u001b[1;32m    479\u001b[0m local_results \u001b[38;5;241m=\u001b[39m all_results[score_name][\u001b[38;5;241m-\u001b[39m\u001b[38;5;28mlen\u001b[39m(params) :]\n\u001b[1;32m    480\u001b[0m \u001b[38;5;66;03m# return the score_name to cache it if callable refit\u001b[39;00m\n\u001b[1;32m    481\u001b[0m \u001b[38;5;66;03m# this avoids checking self.refit all the time\u001b[39;00m\n\u001b[0;32m--> 482\u001b[0m \u001b[38;5;28;01mreturn\u001b[39;00m (\u001b[43moptimizer\u001b[49m\u001b[38;5;241;43m.\u001b[39;49m\u001b[43mtell\u001b[49m\u001b[43m(\u001b[49m\u001b[43mparams\u001b[49m\u001b[43m,\u001b[49m\u001b[43m \u001b[49m\u001b[43m[\u001b[49m\u001b[38;5;241;43m-\u001b[39;49m\u001b[43mscore\u001b[49m\u001b[43m \u001b[49m\u001b[38;5;28;43;01mfor\u001b[39;49;00m\u001b[43m \u001b[49m\u001b[43mscore\u001b[49m\u001b[43m \u001b[49m\u001b[38;5;129;43;01min\u001b[39;49;00m\u001b[43m \u001b[49m\u001b[43mlocal_results\u001b[49m\u001b[43m]\u001b[49m\u001b[43m)\u001b[49m, score_name)\n",
      "File \u001b[0;32m/Library/Frameworks/Python.framework/Versions/3.12/lib/python3.12/site-packages/skopt/optimizer/optimizer.py:559\u001b[0m, in \u001b[0;36mOptimizer.tell\u001b[0;34m(self, x, y, fit)\u001b[0m\n\u001b[1;32m    532\u001b[0m \u001b[38;5;28;01mdef\u001b[39;00m \u001b[38;5;21mtell\u001b[39m(\u001b[38;5;28mself\u001b[39m, x, y, fit\u001b[38;5;241m=\u001b[39m\u001b[38;5;28;01mTrue\u001b[39;00m):\n\u001b[1;32m    533\u001b[0m \u001b[38;5;250m    \u001b[39m\u001b[38;5;124;03m\"\"\"Record an observation (or several) of the objective function.\u001b[39;00m\n\u001b[1;32m    534\u001b[0m \n\u001b[1;32m    535\u001b[0m \u001b[38;5;124;03m    Provide values of the objective function at points suggested by\u001b[39;00m\n\u001b[0;32m   (...)\u001b[0m\n\u001b[1;32m    557\u001b[0m \u001b[38;5;124;03m        the optimizer irrespective of the value of `fit`.\u001b[39;00m\n\u001b[1;32m    558\u001b[0m \u001b[38;5;124;03m    \"\"\"\u001b[39;00m\n\u001b[0;32m--> 559\u001b[0m     \u001b[43mcheck_x_in_space\u001b[49m\u001b[43m(\u001b[49m\u001b[43mx\u001b[49m\u001b[43m,\u001b[49m\u001b[43m \u001b[49m\u001b[38;5;28;43mself\u001b[39;49m\u001b[38;5;241;43m.\u001b[39;49m\u001b[43mspace\u001b[49m\u001b[43m)\u001b[49m\n\u001b[1;32m    560\u001b[0m     \u001b[38;5;28mself\u001b[39m\u001b[38;5;241m.\u001b[39m_check_y_is_valid(x, y)\n\u001b[1;32m    562\u001b[0m     \u001b[38;5;66;03m# take the logarithm of the computation times\u001b[39;00m\n",
      "File \u001b[0;32m/Library/Frameworks/Python.framework/Versions/3.12/lib/python3.12/site-packages/skopt/utils.py:184\u001b[0m, in \u001b[0;36mcheck_x_in_space\u001b[0;34m(x, space)\u001b[0m\n\u001b[1;32m    182\u001b[0m \u001b[38;5;28;01mif\u001b[39;00m is_2Dlistlike(x):\n\u001b[1;32m    183\u001b[0m     \u001b[38;5;28;01mif\u001b[39;00m \u001b[38;5;129;01mnot\u001b[39;00m np\u001b[38;5;241m.\u001b[39mall([p \u001b[38;5;129;01min\u001b[39;00m space \u001b[38;5;28;01mfor\u001b[39;00m p \u001b[38;5;129;01min\u001b[39;00m x]):\n\u001b[0;32m--> 184\u001b[0m         \u001b[38;5;28;01mraise\u001b[39;00m \u001b[38;5;167;01mValueError\u001b[39;00m(\u001b[38;5;124m\"\u001b[39m\u001b[38;5;124mNot all points are within the bounds of\u001b[39m\u001b[38;5;124m\"\u001b[39m \u001b[38;5;124m\"\u001b[39m\u001b[38;5;124m the space.\u001b[39m\u001b[38;5;124m\"\u001b[39m)\n\u001b[1;32m    185\u001b[0m     \u001b[38;5;28;01mif\u001b[39;00m \u001b[38;5;28many\u001b[39m([\u001b[38;5;28mlen\u001b[39m(p) \u001b[38;5;241m!=\u001b[39m \u001b[38;5;28mlen\u001b[39m(space\u001b[38;5;241m.\u001b[39mdimensions) \u001b[38;5;28;01mfor\u001b[39;00m p \u001b[38;5;129;01min\u001b[39;00m x]):\n\u001b[1;32m    186\u001b[0m         \u001b[38;5;28;01mraise\u001b[39;00m \u001b[38;5;167;01mValueError\u001b[39;00m(\u001b[38;5;124m\"\u001b[39m\u001b[38;5;124mNot all points have the same dimensions as\u001b[39m\u001b[38;5;124m\"\u001b[39m \u001b[38;5;124m\"\u001b[39m\u001b[38;5;124m the space.\u001b[39m\u001b[38;5;124m\"\u001b[39m)\n",
      "\u001b[0;31mValueError\u001b[0m: Not all points are within the bounds of the space."
     ]
    }
   ],
   "source": [
    "clf = MLPClassifier(max_iter=100, random_state=42)\n",
    "\n",
    "search_spaces = {\n",
    "    'hidden_layer_sizes': Categorical([(50,), (100,), (200,), (50, 50), (100, 100)]),\n",
    "    'activation': Categorical(['tanh', 'relu']),\n",
    "    'learning_rate': Categorical(['constant', 'adaptive']),\n",
    "    'learning_rate_init': Real(1e-4, 1e-2, prior='log-uniform')\n",
    "}\n",
    "\n",
    "# Define custom scoring functions\n",
    "scoring = {\n",
    "    'F1': make_scorer(f1_score),\n",
    "    'ROC_AUC': make_scorer(roc_auc_score, needs_proba=True)\n",
    "}\n",
    "\n",
    "# Initialize BayesSearchCV with the corrected parameters\n",
    "opt = BayesSearchCV(estimator=clf, search_spaces=search_spaces, n_iter=5, cv=3, n_jobs=-1, verbose=3, scoring=scoring, refit='ROC_AUC')\n",
    "\n",
    "# Fit the optimizer\n",
    "opt.fit(X_train, y_train)\n",
    "\n",
    "# Best hyperparameters found\n",
    "print(\"Best hyperparameters found: \", opt.best_params_)\n",
    "\n",
    "# Evaluate on the test set\n",
    "test_score = opt.score(X_test, y_test)\n",
    "print(\"Test score: \", test_score)"
   ]
  },
  {
   "cell_type": "code",
   "execution_count": null,
   "id": "79e9931d-5bcf-43b3-ad0c-df9c60fd1f52",
   "metadata": {},
   "outputs": [],
   "source": [
    "# Initialize GridSearchCV with cross-validation\n",
    "grid_search = GridSearchCV(clf, param_grid, cv=3, n_jobs=-1, verbose=2, scoring='f1')\n",
    "\n",
    "# Perform the grid search\n",
    "grid_search.fit(X_train, y_train)\n",
    "\n",
    "# Best parameters found\n",
    "print(\"Best parameters found: \", grid_search.best_params_, \" Best score: \", grid_search.best_score_)\n",
    "\n",
    "# Evaluate on the test set\n",
    "print(\"Test set score: \", grid_search.score(X_test, y_test))"
   ]
  },
  {
   "cell_type": "code",
   "execution_count": null,
   "id": "355f1e6e-e40d-4323-8d33-66b301619480",
   "metadata": {},
   "outputs": [],
   "source": [
    "# clf.fit(X_train, y_train)\n",
    "\n",
    "# # Lists to store training and validation loss\n",
    "# training_loss = []\n",
    "# validation_loss = []\n",
    "\n",
    "# # Train the model iteratively\n",
    "# for i in range(300):  # Adjust the range for the number of iterations you want\n",
    "#     clf.fit(X_train, y_train)\n",
    "    \n",
    "#     # Predict probabilities for calculating log loss\n",
    "#     train_prob = clf.predict_proba(X_train)\n",
    "#     test_prob = clf.predict_proba(X_test)\n",
    "    \n",
    "#     # Calculate log loss for training and validation sets\n",
    "#     train_loss = log_loss(y_train, train_prob)\n",
    "#     val_loss = log_loss(y_test, test_prob)\n",
    "    \n",
    "#     # Store the losses\n",
    "#     training_loss.append(train_loss)\n",
    "#     validation_loss.append(val_loss)\n",
    "\n",
    "# # Plot the training curve\n",
    "# plt.figure(figsize=(10, 6))\n",
    "# plt.plot(training_loss, label='Training Loss')\n",
    "# plt.plot(validation_loss, label='Validation Loss')\n",
    "# plt.xlabel('Iteration')\n",
    "# plt.ylabel('Log Loss')\n",
    "# plt.title('Training Curve')\n",
    "# plt.legend()\n",
    "# plt.show()"
   ]
  },
  {
   "cell_type": "code",
   "execution_count": null,
   "id": "8400e3e2-1928-45d1-8197-119f3edf5a4b",
   "metadata": {},
   "outputs": [],
   "source": [
    "predictions = clf.predict(X_test)\n",
    "error = abs(len([pred for pred in predictions if pred == 1]) - len([real for real in y_test if real == 1]))/len([real for real in y_test if real == 1])\n",
    "print(f'Total error is {error}')"
   ]
  },
  {
   "cell_type": "code",
   "execution_count": null,
   "id": "e81445e4-48ee-487b-a2aa-e27d9bda3ba6",
   "metadata": {},
   "outputs": [],
   "source": [
    "test_MWAs_sfhs = []\n",
    "for i in range(len(X_test)):\n",
    "    if y_test[i] == 1:\n",
    "        test_MWAs_sfhs.append(X_test[i])\n",
    "# clf.predict_proba(X_test)"
   ]
  },
  {
   "cell_type": "code",
   "execution_count": null,
   "id": "4844c27d-f97e-461c-aeb4-9a6e71cf4920",
   "metadata": {},
   "outputs": [],
   "source": [
    "probs = []\n",
    "for MWA in test_MWAs_sfhs:\n",
    "    probs.append(clf.predict_proba([MWA]))\n",
    "no_prob = []\n",
    "yes_prob = []\n",
    "for prob in probs:\n",
    "    no_prob.append(prob[0,0])\n",
    "    yes_prob.append(prob[0,1])\n",
    "print(f'MWAs: \\n Average predicted probability for non-MWA: {sum(no_prob)/len(no_prob)}\\n Average predicted probability for MWA: {sum(yes_prob)/len(yes_prob)}')"
   ]
  },
  {
   "cell_type": "code",
   "execution_count": null,
   "id": "a3f08de9-f33f-4ccc-9a71-46f90e7cf9d1",
   "metadata": {},
   "outputs": [],
   "source": [
    "test_non_MWAs_sfhs = []\n",
    "for i in range(len(X_test)):\n",
    "    if y_test[i] == 0:\n",
    "        test_non_MWAs_sfhs.append(X_test[i])\n",
    "probs2 = []\n",
    "for non_MWA in test_non_MWAs_sfhs:\n",
    "    probs2.append(clf.predict_proba([non_MWA]))\n",
    "no_prob2 = []\n",
    "yes_prob2 = []\n",
    "for prob in probs2:\n",
    "    no_prob2.append(prob[0,0])\n",
    "    yes_prob2.append(prob[0,1])\n",
    "print(f'Non-MWAs: \\n Average predicted probability for non-MWA: {sum(no_prob2)/len(no_prob2)}\\n Average predicted probability for MWA: {sum(yes_prob2)/len(yes_prob2)}')"
   ]
  },
  {
   "cell_type": "code",
   "execution_count": null,
   "id": "b7c0a1e5-9180-4d6b-8a81-c9d0f83938a5",
   "metadata": {},
   "outputs": [],
   "source": [
    "def load_simulation_data(sim_name: str):\n",
    "    sim_data = sio.loadmat(work_dir + sim_name + extn)\n",
    "    sfhs = sim_data['smallsfhs']\n",
    "    logmass = sim_data['logmass'].ravel()\n",
    "    presentsfr = sfhs[135]  # Accessing the last time step for redshift 0 sfr\n",
    "    combined = np.column_stack((sfhs, logmass))\n",
    "    return combined\n",
    "\n",
    "all_galaxies = load_simulation_data('Eagle')\n",
    "\n",
    "for i in all_galaxies:\n",
    "    print(i)\n",
    "\n",
    "# Random classification? Benchmarking expectations for bad models -- is it doing better than the baseline?\n",
    "# Look at metrics like accuracy and confusion, create loss curves, see if improvement in the model makes sense\n",
    "# Don't let it just predict the mean, experiment with learning rates/architecture\n",
    "# PyTorch\n",
    "\n",
    "# Grid search and random search are confusing and starting points are arbitrary. I'm gonna experiment with Bayesian hyperparameter optimization!\n",
    "#TODO: try to debug skopt issue"
   ]
  }
 ],
 "metadata": {
  "kernelspec": {
   "display_name": "Python 3 (ipykernel)",
   "language": "python",
   "name": "python3"
  },
  "language_info": {
   "codemirror_mode": {
    "name": "ipython",
    "version": 3
   },
   "file_extension": ".py",
   "mimetype": "text/x-python",
   "name": "python",
   "nbconvert_exporter": "python",
   "pygments_lexer": "ipython3",
   "version": "3.12.1"
  }
 },
 "nbformat": 4,
 "nbformat_minor": 5
}
